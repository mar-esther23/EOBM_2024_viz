{
 "cells": [
  {
   "cell_type": "markdown",
   "id": "b8a9af66-306d-43f0-ac23-57d7775bd7c0",
   "metadata": {},
   "source": [
    "# Introduction to Systems Biology\n",
    "## 3. The magic of change and how to find it\n",
    "\n"
   ]
  },
  {
   "cell_type": "code",
   "execution_count": 1,
   "id": "bb6b451c-a855-4c57-8da6-5b8fcb9ff1fa",
   "metadata": {
    "tags": []
   },
   "outputs": [],
   "source": [
    "import numpy as np\n",
    "from scipy.integrate import odeint\n",
    "import matplotlib.pyplot as plt"
   ]
  },
  {
   "cell_type": "markdown",
   "id": "8e5d2e2c-1f10-4ca8-b661-ccde76dfd44d",
   "metadata": {},
   "source": [
    "## Simple feedback (exponential function)\n",
    "\n",
    "Differential equation:\n",
    "\n",
    "$\\frac{dx}{dt} = -k_{neg} x$ for $k_{neg}>0, \\, x(t=0)=1$\n",
    "\n",
    "Solution:\n",
    "$x(t)=x_0 e ^{-k_{neg}t}$\n",
    "\n",
    "Steady state:\n",
    "$x=0$\n"
   ]
  },
  {
   "cell_type": "code",
   "execution_count": 2,
   "id": "d9d4ee02-f88f-4443-9e35-54617f253824",
   "metadata": {
    "tags": []
   },
   "outputs": [
    {
     "ename": "SyntaxError",
     "evalue": "invalid syntax (3057899762.py, line 35)",
     "output_type": "error",
     "traceback": [
      "\u001b[0;36m  File \u001b[0;32m\"/tmp/ipykernel_19411/3057899762.py\"\u001b[0;36m, line \u001b[0;32m35\u001b[0m\n\u001b[0;31m    Introduction to Systems Biology\u001b[0m\n\u001b[0m                  ^\u001b[0m\n\u001b[0;31mSyntaxError\u001b[0m\u001b[0;31m:\u001b[0m invalid syntax\n"
     ]
    }
   ],
   "source": [
    "# Parameters\n",
    "k = -3  # decay constant\n",
    "x0 = 1   # initial condition\n",
    "t = np.linspace(0, 10, 40) # time\n",
    "\n",
    "# Differential equation model accepting parameter k\n",
    "def d_exp(x, t, k):\n",
    "    return k * x\n",
    "\n",
    "# Steady state\n",
    "xeq = 0\n",
    "\n",
    "# Solve ODE and get x(t)\n",
    "x_t = odeint(d_exp, x0, t, args=(k,))\n",
    "\n",
    "# Calculate dx/dt\n",
    "dx_dt = -k * x_t\n",
    "\n",
    "\n",
    "# Creating subplots\n",
    "fig, axs = plt.subplots(1,2)\n",
    "\n",
    "# Plot x(t) and dx/dt in separate subplots\n",
    "for ax, y, yeq, title in zip(axs, [x_t, dx_dt], [xeq, 0],\n",
    "                             [r\"$x(t)$\", r\"$\\frac{dx}{dt}$\"]):\n",
    "    ax.plot(t, y, label=r\"$k_{neg}=$\"+str(k))\n",
    "    ax.hlines(yeq, t.min(), t.max(), color='black', linestyle='dashed')\n",
    "    ax.set_xlabel('Time (t)')\n",
    "    ax.set_ylabel(title)\n",
    "    ax.set_title(f\"Plot of {title}\")\n",
    "    ax.legend()\n",
    "    \n",
    "plt.tight_layout()\n",
    "\n",
    "Introduction to Systems Biology\n",
    "3. The magic of change and how to find it\n",
    "\n",
    "import numpy as np\n",
    "\n",
    "from scipy.integrate import odeint\n",
    "\n",
    "import matplotlib.pyplot as plt\n",
    "\n",
    "Simple feedback (exponential function)\n",
    "\n",
    "Differential equation:\n",
    "\n",
    "𝑑𝑥𝑑𝑡=−𝑘𝑛𝑒𝑔𝑥\n",
    "for 𝑘𝑛𝑒𝑔>0,𝑥(𝑡=0)=1\n",
    "\n",
    "Solution: 𝑥(𝑡)=𝑥0𝑒−𝑘𝑛𝑒𝑔𝑡plt.show()"
   ]
  },
  {
   "cell_type": "markdown",
   "id": "9f9b5fdc-f656-436b-8249-f9035462a75e",
   "metadata": {},
   "source": [
    "Try diferent parameters of $k_{neg}$."
   ]
  },
  {
   "cell_type": "code",
   "execution_count": null,
   "id": "59a4ef2e-ecc8-49b3-a825-28b9e8663251",
   "metadata": {
    "tags": []
   },
   "outputs": [],
   "source": [
    "# Parameters\n",
    "k_list = [-5,-3,-1,-0.5,0]  # constants\n",
    "\n",
    "# Creating subplots\n",
    "fig, axs = plt.subplots(1,2)\n",
    "\n",
    "# Plot x(t) and dx/dt in separate subplots\n",
    "for k in k_list:\n",
    "    # Solve ODE and get x(t)\n",
    "    x_t = odeint(d_exp, x0, t, args=(k,))\n",
    "    # Calculate dx/dt\n",
    "    dx_dt = k * x_t\n",
    "    axs[0].plot(t, x_t, label=r\"$k_{neg}=-$\"+str(k))\n",
    "    axs[1].plot(t, dx_dt, label=r\"$k_{neg}=-$\"+str(k))\n",
    "    \n",
    "# Plot title and labels\n",
    "for ax, yeq, title in zip(axs, [xeq, 0],\n",
    "                     [r\"$x(t)$\", r\"$\\frac{dx}{dt}$\"]):\n",
    "    ax.hlines(yeq, t.min(), t.max(), color='black', linestyle='dashed')\n",
    "    ax.set_xlabel('Time (t)')\n",
    "    ax.set_ylabel(title)\n",
    "    ax.set_title(f\"Plot of {title}\")\n",
    "    ax.legend()\n",
    "    \n",
    "plt.tight_layout()\n",
    "plt.show()"
   ]
  },
  {
   "cell_type": "markdown",
   "id": "cf2a1bc0-219e-49a2-8436-fbccccc6f601",
   "metadata": {},
   "source": [
    "Try diferent parameters of $k_{pos}$"
   ]
  },
  {
   "cell_type": "code",
   "execution_count": null,
   "id": "8bea1fa0-8341-4917-857c-2d679da93ba5",
   "metadata": {
    "tags": []
   },
   "outputs": [],
   "source": [
    "# Parameters\n",
    "x0 =  0.0001\n",
    "k_list = [.75,0.5,.25,0]  # constants\n",
    "\n",
    "# Creating subplots\n",
    "fig, axs = plt.subplots(1,2)\n",
    "\n",
    "# Plot x(t) and dx/dt in separate subplots\n",
    "for k in k_list:\n",
    "    # Solve ODE and get x(t)\n",
    "    x_t = odeint(d_exp, x0, t, args=(k,))\n",
    "    # Calculate dx/dt\n",
    "    dx_dt = k * x_t\n",
    "    axs[0].plot(t, x_t, label=r\"$k_{pos}=$\"+str(k))\n",
    "    axs[1].plot(t, dx_dt, label=r\"$k_{pos}=$\"+str(k))\n",
    "\n",
    "# Plot title and labels\n",
    "for ax, yeq, title in zip(axs, [xeq, 0],\n",
    "                           [r\"$x(t)$\", r\"$\\frac{dx}{dt}$\"]):\n",
    "    ax.hlines(yeq, t.min(), t.max(), color='black', linestyle='dashed')\n",
    "    ax.set_xlabel('Time (t)')\n",
    "    ax.set_ylabel(title)\n",
    "    ax.set_title(f\"Plot of {title}\")\n",
    "    ax.legend()\n",
    "    \n",
    "plt.tight_layout()\n",
    "plt.show()"
   ]
  },
  {
   "cell_type": "markdown",
   "id": "d603d1e5-e31b-407c-ba30-660405ce0064",
   "metadata": {},
   "source": [
    "What is the value of $\\frac{dx}{dt}$ when $t\\to\\infty$ for $k_{pos}$ and $k_{neg}$?"
   ]
  },
  {
   "cell_type": "markdown",
   "id": "a8c1b9c5-ec11-46ca-9bdb-debcdb305c29",
   "metadata": {},
   "source": [
    "Lets make a direction field"
   ]
  },
  {
   "cell_type": "code",
   "execution_count": null,
   "id": "7f172161-5f79-4ec7-82ef-f83a6a1a339e",
   "metadata": {
    "tags": []
   },
   "outputs": [],
   "source": [
    "# Parameters\n",
    "k = -.5  # decay constant\n",
    "x = np.linspace(0, 10, 20)  # x points (state)\n",
    "t = np.linspace(0, 10, 20)  # t points (state)\n",
    "\n",
    "# Create a grid of (t, x) points\n",
    "T, X = np.meshgrid(t, x)\n",
    "\n",
    "# Compute the slopes dx/dt = -k * x for the grid points\n",
    "dX = k * X\n",
    "dT = np.ones_like(T)  # Time derivative is 1\n",
    "\n",
    "# Plotting the direction field\n",
    "plt.quiver(T, X, dT, dX, color='hotpink')  # Quiver plot for direction field\n",
    "plt.title(r\"Direction Field for $x'(t) = k \\cdot x$\")\n",
    "plt.xlabel('Time (t)')\n",
    "plt.ylabel('x(t)')\n",
    "plt.show()"
   ]
  },
  {
   "cell_type": "markdown",
   "id": "90b5ca91-d78f-4897-bde5-063f673ecf0b",
   "metadata": {},
   "source": [
    "Phase plane for variable $k$"
   ]
  },
  {
   "cell_type": "code",
   "execution_count": null,
   "id": "04da6fcd-072f-49c9-a394-8b2c3e7b2524",
   "metadata": {
    "tags": []
   },
   "outputs": [],
   "source": [
    "# Parameters\n",
    "x = np.linspace(0, 10, 21)  # x points (state)\n",
    "k = np.linspace(-5, 5, 21)  # k points (decay constants)\n",
    "\n",
    "# Create a grid of (k, x) points\n",
    "K, X = np.meshgrid(k, x)\n",
    "\n",
    "# Compute dx/dt = -k * x for the grid points\n",
    "dX = K * X\n",
    "dK = np.zeros_like(K)  # Constant derivative is 0\n",
    "\n",
    "# Plotting the phase plane\n",
    "plt.quiver(K, X, dK, dX, color='gray')  # Quiver plot for the phase plane\n",
    "plt.title(r\"Phase Plane for $x'(t) = k \\cdot x$\")\n",
    "plt.xlabel('k')\n",
    "plt.ylabel('x(t)')\n",
    "plt.show()"
   ]
  },
  {
   "cell_type": "markdown",
   "id": "4be5ad7e-1f3e-4ac0-a17a-569659192e08",
   "metadata": {},
   "source": [
    "## Saturated feedback (Michaelis-Menten)\n",
    "\n",
    "Differential equation:\n",
    "$\\frac{dx}{dt} = -k_{neg}x + \\dfrac{c\\cdot x}{x+1/k_{pos}}$ \n",
    "\n",
    "Steady state:\n",
    "$x=0$ and $x=\\frac{c\\cdot k_{pos}-k_{neg}}{k_{pos}k_{neg}}$"
   ]
  },
  {
   "cell_type": "code",
   "execution_count": null,
   "id": "d1054136-8867-4dbe-a0ec-16cecaaf499c",
   "metadata": {
    "tags": []
   },
   "outputs": [],
   "source": [
    "# Parameters\n",
    "kneg = 3  # negative feedback\n",
    "kpos = 1/1  # positive feedback\n",
    "c = 6 #Vmax\n",
    "x0 = 2   # initial condition\n",
    "t = np.linspace(0, 10, 400) # time\n",
    "\n",
    "# Differential equation model accepting parameter k\n",
    "def d_feedback(x, t, k):\n",
    "    return -kneg*x + c*x/(x+1/kpos)\n",
    "\n",
    "# Steady states\n",
    "xeq = [0, (c*kpos-kneg)/(kpos*kneg)]\n",
    "\n",
    "# Solve ODE and get x(t)\n",
    "x_t = odeint(d_feedback, x0, t, args=(k,))\n",
    "\n",
    "# Plot\n",
    "plt.plot(t, x_t, label=f\"c={c}, kneg={kneg}, kpos={round(kpos,3)}\")\n",
    "plt.hlines(xeq[0], t.min(), t.max(), color='black', linestyle='dashed')\n",
    "plt.hlines(xeq[1], t.min(), t.max(), color='black', linestyle='dashed')\n",
    "plt.title(\"Plot of $x(t)$\")\n",
    "plt.xlabel('Time (t)')\n",
    "plt.ylabel('x(t)')\n",
    "plt.legend()\n",
    "plt.show()"
   ]
  },
  {
   "cell_type": "code",
   "execution_count": null,
   "id": "488cb241-6aa7-47ad-aaa3-81929afda343",
   "metadata": {},
   "outputs": [],
   "source": []
  },
  {
   "cell_type": "markdown",
   "id": "7ab721a4-6cc9-43ff-afc2-e1c55b9085ce",
   "metadata": {},
   "source": [
    "## Sniffer motif"
   ]
  },
  {
   "cell_type": "code",
   "execution_count": null,
   "id": "125adc0a-faf0-4105-8cda-bc6177a3b76e",
   "metadata": {
    "tags": []
   },
   "outputs": [],
   "source": [
    "# Parameters\n",
    "S = 1\n",
    "k1p = 1\n",
    "k1d = 1\n",
    "k2p = 1\n",
    "k2d = 0\n",
    "k2dp = 1\n",
    "\n",
    "# Initial conditions for P and R\n",
    "P0 = 0\n",
    "R0 = 0\n",
    "initial = [P0, R0]\n",
    "\n",
    "# Time points\n",
    "t = np.linspace(0, 10, 400)\n",
    "\n",
    "# Model equations\n",
    "def sniffer(y, t, S, k1p, k1d, k2p, k2d, k2dp):\n",
    "    P, R = y\n",
    "    dP_dt = k1p * S - k1d * P\n",
    "    dR_dt = k2p * S - k2d * P - k2dp * R * P\n",
    "    return [dP_dt, dR_dt]\n",
    "\n",
    "# Solve ODEs\n",
    "sol = odeint(sniffer, initial, t, args=(S, k1p, k1d, k2p, k2d, k2dp))\n",
    "\n",
    "# Extract solutions for P(t) and R(t)\n",
    "P_t = sol[:, 0]\n",
    "R_t = sol[:, 1]\n",
    "\n",
    "# Plotting the results\n",
    "plt.plot(t, P_t, label='P(t)', color='b')\n",
    "plt.plot(t, R_t, label='R(t)', color='r')\n",
    "\n",
    "plt.title('Solution of the system of ODEs')\n",
    "plt.xlabel('Time (t)')\n",
    "plt.ylabel('Concentrations')\n",
    "plt.legend()\n",
    "plt.show()\n"
   ]
  },
  {
   "cell_type": "code",
   "execution_count": null,
   "id": "bd0098b1-c848-4538-8812-63aa28e5b8a9",
   "metadata": {
    "tags": []
   },
   "outputs": [],
   "source": [
    "sol"
   ]
  }
 ],
 "metadata": {
  "kernelspec": {
   "display_name": "Python 3 (ipykernel)",
   "language": "python",
   "name": "python3"
  },
  "language_info": {
   "codemirror_mode": {
    "name": "ipython",
    "version": 3
   },
   "file_extension": ".py",
   "mimetype": "text/x-python",
   "name": "python",
   "nbconvert_exporter": "python",
   "pygments_lexer": "ipython3",
   "version": "3.7.16"
  }
 },
 "nbformat": 4,
 "nbformat_minor": 5
}
